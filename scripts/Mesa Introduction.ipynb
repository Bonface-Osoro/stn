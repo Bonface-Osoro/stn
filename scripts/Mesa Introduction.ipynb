{
 "cells": [
  {
   "cell_type": "markdown",
   "id": "0e6bd50a",
   "metadata": {},
   "source": [
    "First, we import all the necessary libraries"
   ]
  },
  {
   "cell_type": "code",
   "execution_count": 1,
   "id": "988cbd03",
   "metadata": {},
   "outputs": [],
   "source": [
    "import copy\n",
    "import mesa\n",
    "import random\n",
    "import matplotlib.pyplot as plt\n",
    "import numpy as np\n",
    "from mesa import Agent, Model\n",
    "from mesa.datacollection import DataCollector\n",
    "from mesa.space import MultiGrid\n",
    "from scipy.spatial.distance import cdist, squareform\n",
    "from mesa.time import RandomActivation #mesa.time governs model time ticks.  The RandomActivation means that \n",
    "                                       #which agents go first in each time tick is randomly decided"
   ]
  },
  {
   "cell_type": "markdown",
   "id": "9e9a0acd",
   "metadata": {},
   "source": [
    "We create a function that returns 0 or 1 which is the course of action assigned to the agent on initialization."
   ]
  },
  {
   "cell_type": "code",
   "execution_count": 16,
   "id": "7f5f9871",
   "metadata": {},
   "outputs": [],
   "source": [
    "def course_of_action():\n",
    "    \"\"\"This function returns the course of action assigned to the agent\n",
    "       on initialization.\n",
    "       \n",
    "    Returns\n",
    "    -------\n",
    "    action_course : list\n",
    "        Action taken by the agent.\n",
    "    \"\"\"\n",
    "    choices = [0, 1] #0 interception, 1 no interception\n",
    "    # 80% interception and 20% no interception by the bad agent\n",
    "    action_course = random.choices(choices, weights = [80, 20])[0]\n",
    "    \n",
    "    return action_course"
   ]
  },
  {
   "cell_type": "code",
   "execution_count": 54,
   "id": "d3b694f7",
   "metadata": {},
   "outputs": [],
   "source": [
    "class DiploModel(Model):\n",
    "    \n",
    "    \"\"\"\n",
    "    This class Initializes the model as an instance of the mesa.Model class.\n",
    "    It include the following helper functions: __id_matrix, \n",
    "    \"\"\"\n",
    "    \n",
    "    def __id_matrix(self):\n",
    "        \"\"\"This function calculates the inverse distance matrix of 1 over twice the distance.\n",
    "        \n",
    "        Returns\n",
    "        -------\n",
    "        ewise_dist : tuple\n",
    "            Elementwise distance between two cells (array).\n",
    "        \"\"\"\n",
    "        \n",
    "        ## Gets the list of coordinates in the MultiGrid for the model and converts it into an array so we can \n",
    "        ## use the cdist function\n",
    "        cell_list = list(self.grid.coord_iter())\n",
    "        coords = [(cell[1], cell[2]) for cell in cell_list]\n",
    "        \n",
    "        ## cdist calculates the elementwise distance between two arrays - here we're just doing it between the array\n",
    "        ## and itself, which gives us the distance matrices for each cell. Then convert the 0s to 1s to prevent \n",
    "        ## by zero, and take the inverse division\n",
    "        ewise_dist = cdist(np_coords, np_coords)*2\n",
    "        ewise_dist[ewise_dist == 0] = 1\n",
    "        ewise_dist = (1 / ewise_dist)\n",
    "        \n",
    "        return ewise_dist\n",
    "    \n",
    "    def __valence_sum(self):\n",
    "        \"\"\"This function directly accesses the model's grid.coord_iter method and iterate over it. \n",
    "        \n",
    "        Returns\n",
    "        -------\n",
    "        cell_valence : tuple\n",
    "            Valence values for each cell.\n",
    "        \"\"\"\n",
    "        cell_valence = copy.deepcopy(self.empty) # Instantiates IDW as a deepcopy of the 1d array of zeroes\n",
    "\n",
    "        for cell in self.grid.coord_iter():\n",
    "            \n",
    "            ## Each cell in the grid has three attributes - a list of cell contents, the x and y coordinates,\n",
    "            cell_content, x, y = cell \n",
    "            cell_valence[x][y] = sum([agent.valence for agent in cell_content])\n",
    "            \n",
    "        return(cell_valence)\n",
    "    \n",
    "    def __IDW_matrix(self):\n",
    "        \"\"\"This function calculates the inverse distance weights for each cell of the matrix.\n",
    "        \n",
    "        Returns\n",
    "        -------\n",
    "        IDW_results : tuple\n",
    "            Inverse distance weighted values for that one layer in a flattened array.\n",
    "        \"\"\"\n",
    "        IDW = copy.deepcopy(self.empty.flatten())\n",
    "        \n",
    "        #for every layer in the inverse distance cube, multiply the inverse distance and the\n",
    "        ## agent counts together.  \n",
    "        for i in range(len(self.id_matrix)):\n",
    "            IDW_layer = np.multiply(self.id_matrix[i], self.valence_sum.flatten()[i])\n",
    "            \n",
    "            ## Add array elementwise\n",
    "            IDW = np.add(IDW, IDW_layer) \n",
    "            \n",
    "            ## Then, reshape it so it has the same dimensions as the model grid so we can extract neighborhood\n",
    "            ## cell values, which will inform how the agent moves.\n",
    "            IDW_results = (IDW.reshape(self.grid.width,self.grid.height)) \n",
    "            \n",
    "        return IDW_results\n",
    "    \n",
    "    def __get_ids(self, a, b, g):\n",
    "        \"\"\"This function creates IDs for the three agents to enable the scheduler to know them.\n",
    "        \n",
    "        Parameters\n",
    "        ----------\n",
    "        a: interger\n",
    "            ID for agent type a\n",
    "        b: interger\n",
    "            ID for agent type b\n",
    "        g: interger\n",
    "            ID for agent type g\n",
    "        \n",
    "        Returns\n",
    "        -------\n",
    "        a_ids, b_ids, g_ids : tuple\n",
    "            a tuple containing ID lists of the three agents.     \n",
    "        \"\"\"\n",
    "        a_ids = self.assign_list[0:a]\n",
    "        b_ids = self.assign_list[a: (a + b)]\n",
    "        g_ids = self.assign_list[(a + b):]\n",
    "        \n",
    "        return (a_ids, b_ids, g_ids)\n",
    "    \n",
    "    def __add_agent_list_to_schedule(self, id_list, agent_type):\n",
    "        \"\"\"This function adds all the created agents to the schedule in readiness for movement.\n",
    "\n",
    "        Parameters\n",
    "        ----------\n",
    "        id_list: list\n",
    "            List containing as a set of IDs for a given agent type\n",
    "        agent_type: interger\n",
    "            Agent type, can either be a(alpha), b(beta) or g(gamma)\n",
    "        \n",
    "        Returns\n",
    "        -------\n",
    "        agent_details : tuple\n",
    "            Contains agent type and location in the grid.     \n",
    "        \"\"\"\n",
    "        for i in id_list:            # Iterate over the agent's ID list\n",
    "            a = agent_type(i, self)\n",
    "            \n",
    "            ## Adds the created agents to the schedule, so the scheduler knows they are there, and can move them\n",
    "            ## at each time tick.\n",
    "            self.schedule.add(a)\n",
    "            \n",
    "            ## Add the agent to a random grid cell at some random x and random y\n",
    "            x = self.random.randrange(self.grid.width)\n",
    "            y = self.random.randrange(self.grid.height)\n",
    "            \n",
    "            ##  Can be read as place agent a at the coordinate tuple in the grid\n",
    "            agent_details = self.grid.place_agent(a, (x, y))\n",
    "            \n",
    "        return agent_details"
   ]
  },
  {
   "cell_type": "code",
   "execution_count": 60,
   "id": "87a52437",
   "metadata": {},
   "outputs": [
    {
     "data": {
      "text/plain": [
       "tuple"
      ]
     },
     "execution_count": 60,
     "metadata": {},
     "output_type": "execute_result"
    }
   ],
   "source": [
    "type((2, (4, 6)))"
   ]
  },
  {
   "cell_type": "code",
   "execution_count": null,
   "id": "c0fa85bd",
   "metadata": {},
   "outputs": [],
   "source": []
  },
  {
   "cell_type": "code",
   "execution_count": null,
   "id": "2872c031",
   "metadata": {},
   "outputs": [],
   "source": []
  },
  {
   "cell_type": "code",
   "execution_count": null,
   "id": "372666da",
   "metadata": {},
   "outputs": [],
   "source": []
  },
  {
   "cell_type": "code",
   "execution_count": null,
   "id": "dab5b655",
   "metadata": {},
   "outputs": [],
   "source": []
  },
  {
   "cell_type": "code",
   "execution_count": null,
   "id": "c24db714",
   "metadata": {},
   "outputs": [],
   "source": []
  },
  {
   "cell_type": "code",
   "execution_count": null,
   "id": "ba41e5ab",
   "metadata": {},
   "outputs": [],
   "source": []
  },
  {
   "cell_type": "code",
   "execution_count": null,
   "id": "b0d2e94b",
   "metadata": {},
   "outputs": [],
   "source": []
  },
  {
   "cell_type": "code",
   "execution_count": null,
   "id": "6a29ba1d",
   "metadata": {},
   "outputs": [],
   "source": []
  },
  {
   "cell_type": "code",
   "execution_count": null,
   "id": "a44d0473",
   "metadata": {},
   "outputs": [],
   "source": []
  },
  {
   "cell_type": "code",
   "execution_count": null,
   "id": "c6dee021",
   "metadata": {},
   "outputs": [],
   "source": []
  }
 ],
 "metadata": {
  "kernelspec": {
   "display_name": "Python 3 (ipykernel)",
   "language": "python",
   "name": "python3"
  },
  "language_info": {
   "codemirror_mode": {
    "name": "ipython",
    "version": 3
   },
   "file_extension": ".py",
   "mimetype": "text/x-python",
   "name": "python",
   "nbconvert_exporter": "python",
   "pygments_lexer": "ipython3",
   "version": "3.10.8"
  }
 },
 "nbformat": 4,
 "nbformat_minor": 5
}
