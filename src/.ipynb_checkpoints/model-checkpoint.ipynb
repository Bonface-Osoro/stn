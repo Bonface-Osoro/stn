{
 "cells": [
  {
   "cell_type": "code",
   "execution_count": 23,
   "id": "9e0c60e0",
   "metadata": {},
   "outputs": [],
   "source": [
    "import math\n",
    "import mesa\n",
    "from enum import Enum\n",
    "import networkx as nx"
   ]
  },
  {
   "cell_type": "code",
   "execution_count": 26,
   "id": "c0ff7589",
   "metadata": {},
   "outputs": [],
   "source": [
    "class State(Enum):\n",
    "    SUSCEPTIBLE = 0\n",
    "    ATTACKED = 1\n",
    "    RESILIENT = 2\n",
    "\n",
    "\n",
    "def number_state(model, state):\n",
    "    return sum(1 for a in model.grid.get_all_cell_contents() if a.state is state)\n",
    "\n",
    "\n",
    "def number_infected(model):\n",
    "    return number_state(model, State.ATTACKED)\n",
    "\n",
    "\n",
    "def number_susceptible(model):\n",
    "    return number_state(model, State.SUSCEPTIBLE)\n",
    "\n",
    "\n",
    "def number_resistant(model):\n",
    "    return number_state(model, State.RESILIENT)"
   ]
  },
  {
   "cell_type": "code",
   "execution_count": null,
   "id": "83184882",
   "metadata": {},
   "outputs": [],
   "source": []
  }
 ],
 "metadata": {
  "kernelspec": {
   "display_name": "Python 3 (ipykernel)",
   "language": "python",
   "name": "python3"
  },
  "language_info": {
   "codemirror_mode": {
    "name": "ipython",
    "version": 3
   },
   "file_extension": ".py",
   "mimetype": "text/x-python",
   "name": "python",
   "nbconvert_exporter": "python",
   "pygments_lexer": "ipython3",
   "version": "3.10.8"
  }
 },
 "nbformat": 4,
 "nbformat_minor": 5
}
