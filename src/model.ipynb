{
 "cells": [
  {
   "cell_type": "code",
   "execution_count": 23,
   "id": "9e0c60e0",
   "metadata": {},
   "outputs": [],
   "source": [
    "import math\n",
    "import mesa\n",
    "from enum import Enum\n",
    "import networkx as nx"
   ]
  },
  {
   "cell_type": "code",
   "execution_count": 26,
   "id": "84d519d7",
   "metadata": {},
   "outputs": [],
   "source": [
    "class State(Enum):\n",
    "    SUSCEPTIBLE = 0\n",
    "    ATTACKED = 1\n",
    "    RESILIENT = 2\n",
    "\n",
    "\n",
    "def number_state(model, state):\n",
    "    return sum(1 for a in model.grid.get_all_cell_contents() if a.state is state)\n",
    "\n",
    "\n",
    "def number_infected(model):\n",
    "    return number_state(model, State.ATTACKED)\n",
    "\n",
    "\n",
    "def number_susceptible(model):\n",
    "    return number_state(model, State.SUSCEPTIBLE)\n",
    "\n",
    "\n",
    "def number_resistant(model):\n",
    "    return number_state(model, State.RESILIENT)"
   ]
  },
  {
   "cell_type": "code",
   "execution_count": 1,
   "id": "332c9bd2",
   "metadata": {},
   "outputs": [
    {
     "ename": "SyntaxError",
     "evalue": "invalid syntax (3643657706.py, line 9)",
     "output_type": "error",
     "traceback": [
      "\u001b[0;36m  Cell \u001b[0;32mIn [1], line 9\u001b[0;36m\u001b[0m\n\u001b[0;31m    initial outbreak_size = 1,\u001b[0m\n\u001b[0m            ^\u001b[0m\n\u001b[0;31mSyntaxError\u001b[0m\u001b[0;31m:\u001b[0m invalid syntax\n"
     ]
    }
   ],
   "source": [
    "class AttackOnNetwork(mesa.Model):\n",
    "    \"\"\"An attack model with some agents\n",
    "    \"\"\"\n",
    "    \n",
    "    def __init__(\n",
    "        self, \n",
    "        num_sites = 10,\n",
    "        avg_site_degree = 3,\n",
    "        initial_outbreak_size = 1,\n",
    "        attack_spread_chance = 0.4,\n",
    "        attack_check_frequency = 0.4,\n",
    "        resilient_chance = 0.3,\n",
    "        resistance_chance = 0.5,\n",
    "    ):\n",
    "        self.num_sites = num_sites\n",
    "        prob = avg_site_degree / self.num_sites\n",
    "        self.G = nx.erdos_renyi_graph(n = self.num_sites, p = prob)\n",
    "        self.grid = mesa.space.NetworkGrid(self.G)\n",
    "        self.schedule = mesa.time.RandomActivation(self)\n",
    "        self.initial_outbreak_size = (initial_outbreak_size if initial_outbreak_size <=)"
   ]
  },
  {
   "cell_type": "code",
   "execution_count": null,
   "id": "ed246088",
   "metadata": {},
   "outputs": [],
   "source": []
  }
 ],
 "metadata": {
  "kernelspec": {
   "display_name": "Python 3 (ipykernel)",
   "language": "python",
   "name": "python3"
  },
  "language_info": {
   "codemirror_mode": {
    "name": "ipython",
    "version": 3
   },
   "file_extension": ".py",
   "mimetype": "text/x-python",
   "name": "python",
   "nbconvert_exporter": "python",
   "pygments_lexer": "ipython3",
   "version": "3.10.8"
  }
 },
 "nbformat": 4,
 "nbformat_minor": 5
}
